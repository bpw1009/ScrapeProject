{
 "cells": [
  {
   "cell_type": "code",
   "execution_count": 2,
   "metadata": {},
   "outputs": [
    {
     "name": "stdout",
     "output_type": "stream",
     "text": [
      "[nltk_data] Downloading package stopwords to\n",
      "[nltk_data]     C:\\Users\\Ben\\AppData\\Roaming\\nltk_data...\n",
      "[nltk_data]   Package stopwords is already up-to-date!\n"
     ]
    },
    {
     "data": {
      "text/plain": [
       "True"
      ]
     },
     "execution_count": 2,
     "metadata": {},
     "output_type": "execute_result"
    }
   ],
   "source": [
    "from bs4 import BeautifulSoup # For HTML parsing\n",
    "from urllib.request import urlopen # Website connections\n",
    "import re # Regular expressions\n",
    "from time import sleep # To prevent overwhelming the server between connections\n",
    "from collections import Counter # Keep track of our term counts\n",
    "from nltk.corpus import stopwords # Filter out stopwords, such as 'the', 'or', 'and'\n",
    "import pandas as pd # For converting results to a dataframe and bar chart plots\n",
    "%matplotlib inline\n",
    "import nltk\n",
    "nltk.download('stopwords')"
   ]
  },
  {
   "cell_type": "code",
   "execution_count": 12,
   "metadata": {},
   "outputs": [],
   "source": [
    "def text_cleaner(website):\n",
    "    '''\n",
    "    Inputs: url\n",
    "    Outputs: list of unique words\n",
    "    '''\n",
    "    try:\n",
    "        site = urlopen(website).read() # Connect to the job posting\n",
    "    except: \n",
    "        return   # Need this in case the website isn't there anymore or some other weird connection problem \n",
    "    \n",
    "    soup_obj = BeautifulSoup(site,\"lxml\") # Get the html from the site\n",
    "    \n",
    "#     for script in soup_obj([\"script\", \"style\"]):\n",
    "#         script.extract() # Remove these two elements from the BS4 object\n",
    "    \n",
    "    \n",
    "    mydivs = soup_obj.find(\"div\", {\"class\":\"jobsearch-JobComponent-description\"})\n",
    "    \n",
    "    if mydivs:\n",
    "        text = mydivs.text # Get the text from this\n",
    "    else:\n",
    "        return\n",
    "\n",
    "    return text\n"
   ]
  },
  {
   "cell_type": "code",
   "execution_count": 13,
   "metadata": {},
   "outputs": [
    {
     "name": "stdout",
     "output_type": "stream",
     "text": [
      "Enter Search Terms: \"Data Science\"\n",
      "Enter City and State Abbreviation (Boston, MA): Boston, MA\n"
     ]
    }
   ],
   "source": [
    "#Enter and encode search terms\n",
    "import urllib.parse\n",
    "\n",
    "search = input(\"Enter Search Terms: \")\n",
    "cityST = input(\"Enter City and State Abbreviation (Boston, MA): \")\n",
    "\n",
    "encSrch = urllib.parse.quote(search)\n",
    "\n",
    "encLoc = urllib.parse.quote(cityST)\n",
    "\n",
    "srchURL = \"https://www.indeed.com/jobs?q=\" + encSrch + \"&l=\" + encLoc + \"&start=\" \n"
   ]
  },
  {
   "cell_type": "code",
   "execution_count": 14,
   "metadata": {
    "scrolled": true
   },
   "outputs": [
    {
     "name": "stdout",
     "output_type": "stream",
     "text": [
      "Getting page 0\n",
      "Done with collecting the job postings!\n"
     ]
    }
   ],
   "source": [
    "# boston = skills_info(city = 'Boston', state = 'MA') \n",
    "\n",
    "base_url = 'http://www.indeed.com'\n",
    "total_num_jobs = 2000\n",
    "    \n",
    "num_pages = total_num_jobs/10 # This will be how we know the number of times we need to iterate over each new\n",
    "                                      # search result page\n",
    "num_pages = int(num_pages)\n",
    "    \n",
    "job_descriptions = [] # Store all our descriptions in this list\n",
    "    \n",
    "for i in range(0,1): # Loop through all of our search result pages\n",
    "    print('Getting page ' + str(i)) \n",
    "    start_num = str(i*10) # Assign the multiplier of 10 to view the pages we want\n",
    "    current_page = ''.join([srchURL + start_num]) #replace Boston and MA with different city/state\n",
    "        # Now that we can view the correct 10 job returns, start collecting the text samples from each\n",
    "            \n",
    "    html_page = urlopen(current_page).read() # Get the page\n",
    "            \n",
    "    page_obj = BeautifulSoup(html_page) # Locate all of the job links\n",
    "    job_link_area = page_obj.find(id = 'resultsCol') # The center column on the page where the job postings exist\n",
    "    job_link_area = job_link_area.find_all('a')        \n",
    "    job_URLS = [link.get('href') for link in job_link_area] # Get the URLS for the jobs\n",
    "    job_URLS = [(base_url + str(link)) for link in job_URLS]  \n",
    "    job_URLS = [links for links in job_URLS if \"clk\" in links]\n",
    "        \n",
    "    for j in range(0,len(job_URLS)):\n",
    "        final_description = text_cleaner(job_URLS[j])\n",
    "        if final_description: # So that we only append when the website was accessed correctly\n",
    "#             job_descriptions.append(j)\n",
    "            job_descriptions.append(final_description)\n",
    "        sleep(.5) # So that we don't be jerks. If you have a very fast internet connection you could hit the server a lot! \n",
    "        \n",
    "    print('Done with collecting the job postings!')   "
   ]
  },
  {
   "cell_type": "code",
   "execution_count": 15,
   "metadata": {},
   "outputs": [],
   "source": [
    "words = [\"indeed.com\",\"boston\",\"job\", \"JobsCompany\", \"ReviewsFind\", \"SalariesFind\", \"ResumesEmployers\", \"Post\", \"Upload\", \"your\", \"resume\",\"jobupload\",\"resumesign\", \"JobsAdvanced\", \"©\", \"yrs\",\"experience\",\"work\",\"working\",\"skills\",\"business\",\"resumes\",\"000\"\n",
    "]\n",
    "words = [x.lower() for x in words]\n",
    "\n",
    "job_descriptions_test = []\n",
    "\n",
    "for i in range(len(job_descriptions)):\n",
    "    y = job_descriptions[i].lower()\n",
    "    x = [word for word in y.split() if word not in words]\n",
    "    job_descriptions_test.append(x)\n",
    "    \n",
    "for i in range(len(job_descriptions)):\n",
    "    job_descriptions_test[i] = ' '.join(word for word in job_descriptions_test[i])"
   ]
  },
  {
   "cell_type": "code",
   "execution_count": 16,
   "metadata": {},
   "outputs": [],
   "source": [
    "documents = job_descriptions_test"
   ]
  },
  {
   "cell_type": "code",
   "execution_count": null,
   "metadata": {},
   "outputs": [],
   "source": [
    "# %cd C:/Users/Ben/Desktop/UNH Classes/DATA 900/\n",
    "# documents = job_descriptions_test\n",
    "# # documents.to_csv(\"documents\")\n",
    "\n",
    "# documents = pd.DataFrame(documents)\n",
    "# documents.to_csv(\"documents.csv\")"
   ]
  },
  {
   "cell_type": "code",
   "execution_count": 17,
   "metadata": {},
   "outputs": [],
   "source": [
    "#Import feature_extraction vectorizers from sklearn\n",
    "from sklearn.feature_extraction.text import TfidfVectorizer, CountVectorizer\n",
    "\n",
    "\n",
    "\n",
    "no_features = 1000\n",
    "\n",
    "\n",
    "\n",
    "# NMF is able to use tf-idf\n",
    "\n",
    "tfidf_vectorizer = TfidfVectorizer(max_df=0.95, min_df=2, max_features=no_features, stop_words='english')\n",
    "\n",
    "tfidf = tfidf_vectorizer.fit_transform(documents)\n",
    "\n",
    "tfidf_feature_names = tfidf_vectorizer.get_feature_names()\n",
    "\n",
    "\n",
    "\n",
    "# LDA can only use raw term counts for LDA because it is a probabilistic graphical model\n",
    "\n",
    "tf_vectorizer = CountVectorizer(max_df=0.95, min_df=2, max_features=no_features, stop_words='english')\n",
    "\n",
    "tf = tf_vectorizer.fit_transform(documents)\n",
    "\n",
    "tf_feature_names = tf_vectorizer.get_feature_names()"
   ]
  },
  {
   "cell_type": "code",
   "execution_count": 18,
   "metadata": {},
   "outputs": [
    {
     "name": "stderr",
     "output_type": "stream",
     "text": [
      "C:\\Users\\Ben\\Anaconda3A\\lib\\site-packages\\sklearn\\decomposition\\online_lda.py:314: DeprecationWarning: n_topics has been renamed to n_components in version 0.19 and will be removed in 0.21\n",
      "  DeprecationWarning)\n"
     ]
    }
   ],
   "source": [
    "# Import NMF and LDA functions from sklearn\n",
    "from sklearn.decomposition import NMF, LatentDirichletAllocation\n",
    "\n",
    "no_topics = 7\n",
    "\n",
    "# Run NMF\n",
    "\n",
    "nmf = NMF(n_components=no_topics, random_state=1, alpha=.1, l1_ratio=.5, init='nndsvd').fit(tfidf)\n",
    "\n",
    "# Run LDA\n",
    "\n",
    "lda = LatentDirichletAllocation(n_topics=no_topics, max_iter=10, learning_method='online', learning_offset=50.,random_state=1).fit(tf)"
   ]
  },
  {
   "cell_type": "code",
   "execution_count": 19,
   "metadata": {
    "scrolled": true
   },
   "outputs": [
    {
     "name": "stdout",
     "output_type": "stream",
     "text": [
      "LDA:\n",
      "Topic 0: \n",
      "integration management based including database support years\n",
      "Topic 1: \n",
      "ability preferred software learning knowledge tools analysis\n",
      "Topic 2: \n",
      "including decision operations analysis race player research\n",
      "Topic 3: \n",
      "learning machine teams analytics solutions program systems\n",
      "Topic 4: \n",
      "years ai hours creative linux problem solutions\n",
      "Topic 5: \n",
      "sales required ai research year microsoft lead\n",
      "Topic 6: \n",
      "learning software management systems value integration practices\n",
      "\n",
      "\n",
      "NMF:\n",
      "Topic 0: \n",
      "analytics operations analysis statistical areas ability demonstrated\n",
      "Topic 1: \n",
      "software ability learning effectively product preferred levels\n",
      "Topic 2: \n",
      "customer completion applied world program real scientist\n",
      "Topic 3: \n",
      "integration based support management aws culture practices\n",
      "Topic 4: \n",
      "sales year required individual companies events best\n",
      "Topic 5: \n",
      "mining com learning machine www software boston\n",
      "Topic 6: \n",
      "governance value framework culture process quality analytics\n"
     ]
    }
   ],
   "source": [
    "def display_topics(model, feature_names, no_top_words):\n",
    "\n",
    "    for topic_idx, topic in enumerate(model.components_):\n",
    "\n",
    "        print(\"Topic %d: \" % (topic_idx))\n",
    "        \n",
    "        \"Topic %d: \" % (topic_idx)\n",
    "\n",
    "        print(\" \".join([feature_names[i]\n",
    "\n",
    "                        for i in topic.argsort()[:-no_top_words - 1:-1]]))\n",
    "\n",
    "no_top_words = 7\n",
    "\n",
    "\n",
    "print(\"LDA:\")\n",
    "display_topics(lda, tf_feature_names, no_top_words)\n",
    "print(\"\")\n",
    "print(\"\")\n",
    "\n",
    "print(\"NMF:\")\n",
    "display_topics(nmf, tfidf_feature_names, no_top_words)"
   ]
  },
  {
   "cell_type": "code",
   "execution_count": null,
   "metadata": {},
   "outputs": [],
   "source": [
    "!pip install matplotlib\n",
    "\n",
    "!pip install wordcloud"
   ]
  },
  {
   "cell_type": "code",
   "execution_count": 63,
   "metadata": {
    "scrolled": true
   },
   "outputs": [
    {
     "name": "stdout",
     "output_type": "stream",
     "text": [
      "C:\\Users\\Ben\\Desktop\\UNH Classes\\DATA 900\n",
      "<wordcloud.wordcloud.WordCloud object at 0x0000022E7FBAEA20>\n"
     ]
    },
    {
     "data": {
      "image/png": "[encoded data removed]",
      "text/plain": [
       "<Figure size 432x288 with 1 Axes>"
      ]
     },
     "metadata": {
      "needs_background": "light"
     },
     "output_type": "display_data"
    }
   ],
   "source": [
    "%cd C:/Users/Ben/Desktop/UNH Classes/DATA 900/\n",
    "\n",
    "import numpy as np # linear algebra\n",
    "import pandas as pd \n",
    "import matplotlib as mpl\n",
    "import matplotlib.pyplot as plt\n",
    "%matplotlib inline\n",
    "\n",
    "from subprocess import check_output\n",
    "from wordcloud import WordCloud, STOPWORDS\n",
    "\n",
    "#mpl.rcParams['figure.figsize']=(8.0,6.0)    #(6.0,4.0)\n",
    "mpl.rcParams['font.size']=12                #10 \n",
    "mpl.rcParams['savefig.dpi']=100             #72 \n",
    "mpl.rcParams['figure.subplot.bottom']=.1 \n",
    "\n",
    "\n",
    "stopwords = set(STOPWORDS)\n",
    "data = pd.read_csv(\"LDA6.txt\")\n",
    "\n",
    "wordcloud = WordCloud(\n",
    "                          background_color='white',\n",
    "                          stopwords=stopwords,\n",
    "                          max_words=200,\n",
    "                          max_font_size=40, \n",
    "                          random_state=42\n",
    "                         ).generate(str(data.columns))\n",
    "\n",
    "print(wordcloud)\n",
    "fig = plt.figure(1)\n",
    "plt.imshow(wordcloud)\n",
    "plt.axis('off')\n",
    "plt.show()\n",
    "fig.savefig(\"word1.png\", dpi=900)"
   ]
  }
 ],
 "metadata": {
  "kernelspec": {
   "display_name": "Python 3",
   "language": "python",
   "name": "python3"
  },
  "language_info": {
   "codemirror_mode": {
    "name": "ipython",
    "version": 3
   },
   "file_extension": ".py",
   "mimetype": "text/x-python",
   "name": "python",
   "nbconvert_exporter": "python",
   "pygments_lexer": "ipython3",
   "version": "3.7.0"
  }
 },
 "nbformat": 4,
 "nbformat_minor": 2
}
